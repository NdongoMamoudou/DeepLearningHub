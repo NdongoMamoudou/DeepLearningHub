{
 "cells": [
  {
   "cell_type": "markdown",
   "id": "94a655a2",
   "metadata": {},
   "source": [
    "#### Importer le bibliotheque"
   ]
  },
  {
   "cell_type": "code",
   "execution_count": null,
   "id": "a3b49f15",
   "metadata": {},
   "outputs": [],
   "source": [
    "import numpy as np \n",
    "import pandas as pd \n",
    "\n",
    "\n",
    "import matplotlib.pyplot as plt \n",
    "import seaborn as sns \n",
    "\n",
    "\n",
    "from tensorflow.keras.models import Sequential\n",
    "from tensorflow.keras.layers  import Conv2D , Dense , Flatten\n",
    "from tensorflow.keras.optimizers import Adam\n",
    "\n",
    "\n",
    "from sklearn.model_selection import train_test_split\n",
    "from sklearn.preprocessing import StandardScaler\n",
    "from sklearn.metrics import r2_score"
   ]
  },
  {
   "cell_type": "markdown",
   "id": "b720cf3e",
   "metadata": {},
   "source": [
    "#### Importer le dataset"
   ]
  },
  {
   "cell_type": "code",
   "execution_count": 30,
   "id": "cd5fd3d6",
   "metadata": {},
   "outputs": [
    {
     "data": {
      "text/html": [
       "<div>\n",
       "<style scoped>\n",
       "    .dataframe tbody tr th:only-of-type {\n",
       "        vertical-align: middle;\n",
       "    }\n",
       "\n",
       "    .dataframe tbody tr th {\n",
       "        vertical-align: top;\n",
       "    }\n",
       "\n",
       "    .dataframe thead th {\n",
       "        text-align: right;\n",
       "    }\n",
       "</style>\n",
       "<table border=\"1\" class=\"dataframe\">\n",
       "  <thead>\n",
       "    <tr style=\"text-align: right;\">\n",
       "      <th></th>\n",
       "      <th>distance</th>\n",
       "      <th>gravitational_force</th>\n",
       "      <th>wind_speed</th>\n",
       "      <th>wind_direction</th>\n",
       "      <th>projectile_mass</th>\n",
       "      <th>hauteur_tir</th>\n",
       "    </tr>\n",
       "  </thead>\n",
       "  <tbody>\n",
       "    <tr>\n",
       "      <th>0</th>\n",
       "      <td>185.147261</td>\n",
       "      <td>1.735302</td>\n",
       "      <td>5.111193</td>\n",
       "      <td>72.563735</td>\n",
       "      <td>6.264990</td>\n",
       "      <td>63.753880</td>\n",
       "    </tr>\n",
       "    <tr>\n",
       "      <th>1</th>\n",
       "      <td>162.164593</td>\n",
       "      <td>1.212242</td>\n",
       "      <td>11.324195</td>\n",
       "      <td>159.553694</td>\n",
       "      <td>7.160778</td>\n",
       "      <td>39.248001</td>\n",
       "    </tr>\n",
       "    <tr>\n",
       "      <th>2</th>\n",
       "      <td>159.729151</td>\n",
       "      <td>0.559810</td>\n",
       "      <td>2.043802</td>\n",
       "      <td>46.726126</td>\n",
       "      <td>6.760446</td>\n",
       "      <td>30.033692</td>\n",
       "    </tr>\n",
       "    <tr>\n",
       "      <th>3</th>\n",
       "      <td>229.910091</td>\n",
       "      <td>1.708890</td>\n",
       "      <td>10.453871</td>\n",
       "      <td>107.269949</td>\n",
       "      <td>3.158279</td>\n",
       "      <td>79.417507</td>\n",
       "    </tr>\n",
       "    <tr>\n",
       "      <th>4</th>\n",
       "      <td>414.195477</td>\n",
       "      <td>1.481273</td>\n",
       "      <td>17.105149</td>\n",
       "      <td>180.972756</td>\n",
       "      <td>9.350552</td>\n",
       "      <td>192.583195</td>\n",
       "    </tr>\n",
       "  </tbody>\n",
       "</table>\n",
       "</div>"
      ],
      "text/plain": [
       "     distance  gravitational_force  wind_speed  wind_direction  \\\n",
       "0  185.147261             1.735302    5.111193       72.563735   \n",
       "1  162.164593             1.212242   11.324195      159.553694   \n",
       "2  159.729151             0.559810    2.043802       46.726126   \n",
       "3  229.910091             1.708890   10.453871      107.269949   \n",
       "4  414.195477             1.481273   17.105149      180.972756   \n",
       "\n",
       "   projectile_mass  hauteur_tir  \n",
       "0         6.264990    63.753880  \n",
       "1         7.160778    39.248001  \n",
       "2         6.760446    30.033692  \n",
       "3         3.158279    79.417507  \n",
       "4         9.350552   192.583195  "
      ]
     },
     "execution_count": 30,
     "metadata": {},
     "output_type": "execute_result"
    }
   ],
   "source": [
    "df = pd.read_csv(\"D:/Projet_DeepLearning/PMC/Data/balistic.csv\")\n",
    "\n",
    "df.head()"
   ]
  },
  {
   "cell_type": "markdown",
   "id": "a368554d",
   "metadata": {},
   "source": [
    "#### Analyser le dataset"
   ]
  },
  {
   "cell_type": "code",
   "execution_count": 31,
   "id": "e5f7fb66",
   "metadata": {},
   "outputs": [
    {
     "name": "stdout",
     "output_type": "stream",
     "text": [
      "ligne_clonne :  (50000, 6) taille :  300000 dimension : 2\n"
     ]
    }
   ],
   "source": [
    "print(\"ligne_clonne : \" , df.shape , \"taille : \", df.size , \"dimension :\" ,  df.ndim )"
   ]
  },
  {
   "cell_type": "code",
   "execution_count": 32,
   "id": "45865aff",
   "metadata": {},
   "outputs": [
    {
     "data": {
      "text/plain": [
       "distance               float64\n",
       "gravitational_force    float64\n",
       "wind_speed             float64\n",
       "wind_direction         float64\n",
       "projectile_mass        float64\n",
       "hauteur_tir            float64\n",
       "dtype: object"
      ]
     },
     "execution_count": 32,
     "metadata": {},
     "output_type": "execute_result"
    }
   ],
   "source": [
    "df.dtypes"
   ]
  },
  {
   "cell_type": "code",
   "execution_count": 33,
   "id": "eaf37e50",
   "metadata": {},
   "outputs": [
    {
     "data": {
      "text/plain": [
       "distance               0\n",
       "gravitational_force    0\n",
       "wind_speed             0\n",
       "wind_direction         0\n",
       "projectile_mass        0\n",
       "hauteur_tir            0\n",
       "dtype: int64"
      ]
     },
     "execution_count": 33,
     "metadata": {},
     "output_type": "execute_result"
    }
   ],
   "source": [
    "df.isnull().sum()"
   ]
  },
  {
   "cell_type": "code",
   "execution_count": 34,
   "id": "7f7a371a",
   "metadata": {},
   "outputs": [
    {
     "data": {
      "text/html": [
       "<div>\n",
       "<style scoped>\n",
       "    .dataframe tbody tr th:only-of-type {\n",
       "        vertical-align: middle;\n",
       "    }\n",
       "\n",
       "    .dataframe tbody tr th {\n",
       "        vertical-align: top;\n",
       "    }\n",
       "\n",
       "    .dataframe thead th {\n",
       "        text-align: right;\n",
       "    }\n",
       "</style>\n",
       "<table border=\"1\" class=\"dataframe\">\n",
       "  <thead>\n",
       "    <tr style=\"text-align: right;\">\n",
       "      <th></th>\n",
       "      <th>distance</th>\n",
       "      <th>gravitational_force</th>\n",
       "      <th>wind_speed</th>\n",
       "      <th>wind_direction</th>\n",
       "      <th>projectile_mass</th>\n",
       "      <th>hauteur_tir</th>\n",
       "    </tr>\n",
       "  </thead>\n",
       "  <tbody>\n",
       "    <tr>\n",
       "      <th>count</th>\n",
       "      <td>50000.000000</td>\n",
       "      <td>50000.000000</td>\n",
       "      <td>50000.000000</td>\n",
       "      <td>50000.000000</td>\n",
       "      <td>50000.000000</td>\n",
       "      <td>50000.000000</td>\n",
       "    </tr>\n",
       "    <tr>\n",
       "      <th>mean</th>\n",
       "      <td>274.552418</td>\n",
       "      <td>1.252632</td>\n",
       "      <td>10.023339</td>\n",
       "      <td>180.397627</td>\n",
       "      <td>5.050865</td>\n",
       "      <td>108.931179</td>\n",
       "    </tr>\n",
       "    <tr>\n",
       "      <th>std</th>\n",
       "      <td>129.945226</td>\n",
       "      <td>0.432423</td>\n",
       "      <td>5.780206</td>\n",
       "      <td>104.053196</td>\n",
       "      <td>2.861954</td>\n",
       "      <td>73.883734</td>\n",
       "    </tr>\n",
       "    <tr>\n",
       "      <th>min</th>\n",
       "      <td>50.009551</td>\n",
       "      <td>0.500055</td>\n",
       "      <td>0.000206</td>\n",
       "      <td>0.019693</td>\n",
       "      <td>0.100013</td>\n",
       "      <td>2.489976</td>\n",
       "    </tr>\n",
       "    <tr>\n",
       "      <th>25%</th>\n",
       "      <td>162.567906</td>\n",
       "      <td>0.879793</td>\n",
       "      <td>5.003470</td>\n",
       "      <td>89.832346</td>\n",
       "      <td>2.574565</td>\n",
       "      <td>44.804914</td>\n",
       "    </tr>\n",
       "    <tr>\n",
       "      <th>50%</th>\n",
       "      <td>274.113638</td>\n",
       "      <td>1.251194</td>\n",
       "      <td>10.057454</td>\n",
       "      <td>180.786892</td>\n",
       "      <td>5.038194</td>\n",
       "      <td>92.208405</td>\n",
       "    </tr>\n",
       "    <tr>\n",
       "      <th>75%</th>\n",
       "      <td>387.249468</td>\n",
       "      <td>1.627666</td>\n",
       "      <td>15.013690</td>\n",
       "      <td>270.664220</td>\n",
       "      <td>7.518826</td>\n",
       "      <td>166.726757</td>\n",
       "    </tr>\n",
       "    <tr>\n",
       "      <th>max</th>\n",
       "      <td>499.990235</td>\n",
       "      <td>1.999999</td>\n",
       "      <td>19.999946</td>\n",
       "      <td>359.994042</td>\n",
       "      <td>9.999979</td>\n",
       "      <td>294.214861</td>\n",
       "    </tr>\n",
       "  </tbody>\n",
       "</table>\n",
       "</div>"
      ],
      "text/plain": [
       "           distance  gravitational_force    wind_speed  wind_direction  \\\n",
       "count  50000.000000         50000.000000  50000.000000    50000.000000   \n",
       "mean     274.552418             1.252632     10.023339      180.397627   \n",
       "std      129.945226             0.432423      5.780206      104.053196   \n",
       "min       50.009551             0.500055      0.000206        0.019693   \n",
       "25%      162.567906             0.879793      5.003470       89.832346   \n",
       "50%      274.113638             1.251194     10.057454      180.786892   \n",
       "75%      387.249468             1.627666     15.013690      270.664220   \n",
       "max      499.990235             1.999999     19.999946      359.994042   \n",
       "\n",
       "       projectile_mass   hauteur_tir  \n",
       "count     50000.000000  50000.000000  \n",
       "mean          5.050865    108.931179  \n",
       "std           2.861954     73.883734  \n",
       "min           0.100013      2.489976  \n",
       "25%           2.574565     44.804914  \n",
       "50%           5.038194     92.208405  \n",
       "75%           7.518826    166.726757  \n",
       "max           9.999979    294.214861  "
      ]
     },
     "execution_count": 34,
     "metadata": {},
     "output_type": "execute_result"
    }
   ],
   "source": [
    "df.describe()"
   ]
  },
  {
   "cell_type": "markdown",
   "id": "77d93ad5",
   "metadata": {},
   "source": [
    "#### Analyser graphiquement du dataset"
   ]
  },
  {
   "cell_type": "code",
   "execution_count": 35,
   "id": "a75b3c7d",
   "metadata": {},
   "outputs": [],
   "source": [
    "# sns.pairplot(df)"
   ]
  },
  {
   "cell_type": "markdown",
   "id": "209e0969",
   "metadata": {},
   "source": [
    "#### Utilisation de PMC"
   ]
  },
  {
   "cell_type": "code",
   "execution_count": 36,
   "id": "e4e7d650",
   "metadata": {},
   "outputs": [
    {
     "name": "stdout",
     "output_type": "stream",
     "text": [
      "(40000, 5)\n",
      "(40000,)\n"
     ]
    }
   ],
   "source": [
    "### diviser le dataset \n",
    "Y = df[\"hauteur_tir\"]\n",
    "x= df.drop(\"hauteur_tir\" , axis=1)\n",
    "\n",
    "x_train , x_test , Y_train , Y_test = train_test_split(x ,Y , test_size=0.2 , random_state=40)\n",
    "\n",
    "print(x_train.shape)\n",
    "print(Y_train.shape)"
   ]
  },
  {
   "cell_type": "code",
   "execution_count": 37,
   "id": "d3c8ce08",
   "metadata": {},
   "outputs": [
    {
     "name": "stdout",
     "output_type": "stream",
     "text": [
      "X_traint: (40000, 5)\n"
     ]
    }
   ],
   "source": [
    "### Normaliser le dataset \n",
    "scaller = StandardScaler()\n",
    "\n",
    "x_train_scaller = scaller.fit_transform(x_train)\n",
    "x_test_scaller = scaller.transform(x_test)\n",
    "\n",
    "print(\"X_traint:\" , x_train.shape)"
   ]
  },
  {
   "cell_type": "code",
   "execution_count": 38,
   "id": "c46877de",
   "metadata": {},
   "outputs": [],
   "source": [
    "### creer un model sequentiel  \n",
    "\n",
    "model = Sequential([\n",
    "     Dense(5 , input_shape = (5,)), \n",
    "     Dense(64 , activation = \"relu\"),\n",
    "     Dense(1 , activation = \"linear\")\n",
    "     \n",
    "])"
   ]
  },
  {
   "cell_type": "code",
   "execution_count": 39,
   "id": "3656ea15",
   "metadata": {},
   "outputs": [],
   "source": [
    "### compiler le model \n",
    "model.compile(optimizer=Adam(learning_rate=0.001), loss='mse')"
   ]
  },
  {
   "cell_type": "code",
   "execution_count": 40,
   "id": "e4464d9a",
   "metadata": {},
   "outputs": [
    {
     "name": "stdout",
     "output_type": "stream",
     "text": [
      "Epoch 1/30\n",
      "1250/1250 [==============================] - 4s 3ms/step - loss: 4852.5830\n",
      "Epoch 2/30\n",
      "1250/1250 [==============================] - 3s 2ms/step - loss: 90.1055\n",
      "Epoch 3/30\n",
      "1250/1250 [==============================] - 2s 2ms/step - loss: 59.4001\n",
      "Epoch 4/30\n",
      "1250/1250 [==============================] - 2s 2ms/step - loss: 41.1038\n",
      "Epoch 5/30\n",
      "1250/1250 [==============================] - 2s 2ms/step - loss: 21.9460\n",
      "Epoch 6/30\n",
      "1250/1250 [==============================] - 2s 2ms/step - loss: 9.5778\n",
      "Epoch 7/30\n",
      "1250/1250 [==============================] - 2s 2ms/step - loss: 4.4227\n",
      "Epoch 8/30\n",
      "1250/1250 [==============================] - 2s 2ms/step - loss: 2.6473\n",
      "Epoch 9/30\n",
      "1250/1250 [==============================] - 2s 2ms/step - loss: 1.8751\n",
      "Epoch 10/30\n",
      "1250/1250 [==============================] - 2s 2ms/step - loss: 1.4295\n",
      "Epoch 11/30\n",
      "1250/1250 [==============================] - 2s 2ms/step - loss: 1.1275\n",
      "Epoch 12/30\n",
      "1250/1250 [==============================] - 2s 2ms/step - loss: 0.8957\n",
      "Epoch 13/30\n",
      "1250/1250 [==============================] - 2s 2ms/step - loss: 0.7279\n",
      "Epoch 14/30\n",
      "1250/1250 [==============================] - 2s 2ms/step - loss: 0.6073\n",
      "Epoch 15/30\n",
      "1250/1250 [==============================] - 2s 2ms/step - loss: 0.5003\n",
      "Epoch 16/30\n",
      "1250/1250 [==============================] - 2s 2ms/step - loss: 0.4276\n",
      "Epoch 17/30\n",
      "1250/1250 [==============================] - 2s 2ms/step - loss: 0.3714\n",
      "Epoch 18/30\n",
      "1250/1250 [==============================] - 2s 2ms/step - loss: 0.3252\n",
      "Epoch 19/30\n",
      "1250/1250 [==============================] - 2s 2ms/step - loss: 0.2862\n",
      "Epoch 20/30\n",
      "1250/1250 [==============================] - 2s 2ms/step - loss: 0.2606\n",
      "Epoch 21/30\n",
      "1250/1250 [==============================] - 2s 2ms/step - loss: 0.2343\n",
      "Epoch 22/30\n",
      "1250/1250 [==============================] - 2s 2ms/step - loss: 0.2180\n",
      "Epoch 23/30\n",
      "1250/1250 [==============================] - 2s 2ms/step - loss: 0.1973\n",
      "Epoch 24/30\n",
      "1250/1250 [==============================] - 2s 2ms/step - loss: 0.1827\n",
      "Epoch 25/30\n",
      "1250/1250 [==============================] - 2s 2ms/step - loss: 0.1723\n",
      "Epoch 26/30\n",
      "1250/1250 [==============================] - 2s 2ms/step - loss: 0.1613\n",
      "Epoch 27/30\n",
      "1250/1250 [==============================] - 2s 2ms/step - loss: 0.1532\n",
      "Epoch 28/30\n",
      "1250/1250 [==============================] - 2s 2ms/step - loss: 0.1423\n",
      "Epoch 29/30\n",
      "1250/1250 [==============================] - 2s 2ms/step - loss: 0.1321\n",
      "Epoch 30/30\n",
      "1250/1250 [==============================] - 2s 2ms/step - loss: 0.1277\n"
     ]
    }
   ],
   "source": [
    "##  entrainer le model \n",
    "history = model.fit(x_train_scaller , Y_train , epochs= 30)"
   ]
  },
  {
   "cell_type": "code",
   "execution_count": 41,
   "id": "31c8c7a0",
   "metadata": {},
   "outputs": [
    {
     "name": "stdout",
     "output_type": "stream",
     "text": [
      "313/313 [==============================] - 1s 2ms/step - loss: 0.1198\n"
     ]
    }
   ],
   "source": [
    "loss_test = model.evaluate(x_test_scaller, Y_test)\n"
   ]
  },
  {
   "cell_type": "code",
   "execution_count": 42,
   "id": "f2121482",
   "metadata": {},
   "outputs": [
    {
     "name": "stdout",
     "output_type": "stream",
     "text": [
      "313/313 [==============================] - 1s 2ms/step\n"
     ]
    },
    {
     "data": {
      "text/plain": [
       "array([[ 37.184612],\n",
       "       [ 56.749397],\n",
       "       [143.12257 ],\n",
       "       ...,\n",
       "       [ 46.29962 ],\n",
       "       [132.83534 ],\n",
       "       [156.16115 ]], dtype=float32)"
      ]
     },
     "execution_count": 42,
     "metadata": {},
     "output_type": "execute_result"
    }
   ],
   "source": [
    "### faire la prediction \n",
    "y_pred = model.predict(x_test_scaller)\n",
    "\n",
    "y_pred"
   ]
  },
  {
   "cell_type": "code",
   "execution_count": 43,
   "id": "57663b5e",
   "metadata": {},
   "outputs": [
    {
     "name": "stdout",
     "output_type": "stream",
     "text": [
      "R2 :  0.9999779705447637\n"
     ]
    }
   ],
   "source": [
    "### evaluer le model \n",
    "R2 = r2_score(Y_test , y_pred)\n",
    "\n",
    "print(\"R2 : \" , R2)"
   ]
  },
  {
   "cell_type": "code",
   "execution_count": 44,
   "id": "3b3330eb",
   "metadata": {},
   "outputs": [
    {
     "data": {
      "image/png": "[encoded data removed]",
      "text/plain": [
       "<Figure size 640x480 with 1 Axes>"
      ]
     },
     "metadata": {},
     "output_type": "display_data"
    }
   ],
   "source": [
    "## \n",
    "loss_train = history.history[\"loss\"]\n",
    "plt.plot(loss_train)\n",
    "plt.show()\n",
    "\n"
   ]
  }
 ],
 "metadata": {
  "kernelspec": {
   "display_name": "EnvDeepLearn",
   "language": "python",
   "name": "python3"
  },
  "language_info": {
   "codemirror_mode": {
    "name": "ipython",
    "version": 3
   },
   "file_extension": ".py",
   "mimetype": "text/x-python",
   "name": "python",
   "nbconvert_exporter": "python",
   "pygments_lexer": "ipython3",
   "version": "3.10.11"
  }
 },
 "nbformat": 4,
 "nbformat_minor": 5
}
