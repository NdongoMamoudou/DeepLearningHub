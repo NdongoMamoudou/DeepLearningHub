{
 "cells": [
  {
   "cell_type": "markdown",
   "id": "94a655a2",
   "metadata": {},
   "source": [
    "#### Importer le bibliotheque"
   ]
  },
  {
   "cell_type": "code",
   "execution_count": null,
   "id": "a3b49f15",
   "metadata": {},
   "outputs": [],
   "source": [
    "import numpy as np \n",
    "import pandas as pd \n",
    "\n",
    "import matplotlib.pyplot as plt \n",
    "import seaborn as sns \n",
    "\n",
    "from tensorflow.keras.models import Sequential\n",
    "from tensorflow.keras.layers  import Conv2D , Dense , Flatten\n",
    "from tensorflow.keras.optimizers import Adam\n",
    "\n",
    "from sklearn.model_selection import train_test_split\n",
    "from sklearn.preprocessing import StandardScaler\n",
    "from sklearn.metrics import r2_score, eva"
   ]
  },
  {
   "cell_type": "markdown",
   "id": "b720cf3e",
   "metadata": {},
   "source": [
    "#### Importer le dataset"
   ]
  },
  {
   "cell_type": "code",
   "execution_count": 49,
   "id": "cd5fd3d6",
   "metadata": {},
   "outputs": [
    {
     "data": {
      "text/html": [
       "<div>\n",
       "<style scoped>\n",
       "    .dataframe tbody tr th:only-of-type {\n",
       "        vertical-align: middle;\n",
       "    }\n",
       "\n",
       "    .dataframe tbody tr th {\n",
       "        vertical-align: top;\n",
       "    }\n",
       "\n",
       "    .dataframe thead th {\n",
       "        text-align: right;\n",
       "    }\n",
       "</style>\n",
       "<table border=\"1\" class=\"dataframe\">\n",
       "  <thead>\n",
       "    <tr style=\"text-align: right;\">\n",
       "      <th></th>\n",
       "      <th>distance</th>\n",
       "      <th>gravitational_force</th>\n",
       "      <th>wind_speed</th>\n",
       "      <th>wind_direction</th>\n",
       "      <th>projectile_mass</th>\n",
       "      <th>hauteur_tir</th>\n",
       "    </tr>\n",
       "  </thead>\n",
       "  <tbody>\n",
       "    <tr>\n",
       "      <th>0</th>\n",
       "      <td>185.147261</td>\n",
       "      <td>1.735302</td>\n",
       "      <td>5.111193</td>\n",
       "      <td>72.563735</td>\n",
       "      <td>6.264990</td>\n",
       "      <td>63.753880</td>\n",
       "    </tr>\n",
       "    <tr>\n",
       "      <th>1</th>\n",
       "      <td>162.164593</td>\n",
       "      <td>1.212242</td>\n",
       "      <td>11.324195</td>\n",
       "      <td>159.553694</td>\n",
       "      <td>7.160778</td>\n",
       "      <td>39.248001</td>\n",
       "    </tr>\n",
       "    <tr>\n",
       "      <th>2</th>\n",
       "      <td>159.729151</td>\n",
       "      <td>0.559810</td>\n",
       "      <td>2.043802</td>\n",
       "      <td>46.726126</td>\n",
       "      <td>6.760446</td>\n",
       "      <td>30.033692</td>\n",
       "    </tr>\n",
       "    <tr>\n",
       "      <th>3</th>\n",
       "      <td>229.910091</td>\n",
       "      <td>1.708890</td>\n",
       "      <td>10.453871</td>\n",
       "      <td>107.269949</td>\n",
       "      <td>3.158279</td>\n",
       "      <td>79.417507</td>\n",
       "    </tr>\n",
       "    <tr>\n",
       "      <th>4</th>\n",
       "      <td>414.195477</td>\n",
       "      <td>1.481273</td>\n",
       "      <td>17.105149</td>\n",
       "      <td>180.972756</td>\n",
       "      <td>9.350552</td>\n",
       "      <td>192.583195</td>\n",
       "    </tr>\n",
       "  </tbody>\n",
       "</table>\n",
       "</div>"
      ],
      "text/plain": [
       "     distance  gravitational_force  ...  projectile_mass  hauteur_tir\n",
       "0  185.147261             1.735302  ...         6.264990    63.753880\n",
       "1  162.164593             1.212242  ...         7.160778    39.248001\n",
       "2  159.729151             0.559810  ...         6.760446    30.033692\n",
       "3  229.910091             1.708890  ...         3.158279    79.417507\n",
       "4  414.195477             1.481273  ...         9.350552   192.583195\n",
       "\n",
       "[5 rows x 6 columns]"
      ]
     },
     "execution_count": 49,
     "metadata": {},
     "output_type": "execute_result"
    }
   ],
   "source": [
    "df = pd.read_csv(\"D:/Projet_DeepLearning/PMC/Data/balistic.csv\")\n",
    "\n",
    "df.head()"
   ]
  },
  {
   "cell_type": "markdown",
   "id": "a368554d",
   "metadata": {},
   "source": [
    "#### Analyser le dataset"
   ]
  },
  {
   "cell_type": "code",
   "execution_count": 50,
   "id": "e5f7fb66",
   "metadata": {},
   "outputs": [
    {
     "name": "stdout",
     "output_type": "stream",
     "text": [
      "ligne_clonne :  (50000, 6) taille :  300000 dimension : 2\n"
     ]
    }
   ],
   "source": [
    "print(\"ligne_clonne : \" , df.shape , \"taille : \", df.size , \"dimension :\" ,  df.ndim )"
   ]
  },
  {
   "cell_type": "code",
   "execution_count": 51,
   "id": "45865aff",
   "metadata": {},
   "outputs": [
    {
     "data": {
      "text/plain": [
       "distance               float64\n",
       "gravitational_force    float64\n",
       "wind_speed             float64\n",
       "wind_direction         float64\n",
       "projectile_mass        float64\n",
       "hauteur_tir            float64\n",
       "dtype: object"
      ]
     },
     "execution_count": 51,
     "metadata": {},
     "output_type": "execute_result"
    }
   ],
   "source": [
    "df.dtypes"
   ]
  },
  {
   "cell_type": "code",
   "execution_count": 52,
   "id": "eaf37e50",
   "metadata": {},
   "outputs": [
    {
     "data": {
      "text/plain": [
       "distance               0\n",
       "gravitational_force    0\n",
       "wind_speed             0\n",
       "wind_direction         0\n",
       "projectile_mass        0\n",
       "hauteur_tir            0\n",
       "dtype: int64"
      ]
     },
     "execution_count": 52,
     "metadata": {},
     "output_type": "execute_result"
    }
   ],
   "source": [
    "df.isnull().sum()"
   ]
  },
  {
   "cell_type": "code",
   "execution_count": 53,
   "id": "7f7a371a",
   "metadata": {},
   "outputs": [
    {
     "data": {
      "text/html": [
       "<div>\n",
       "<style scoped>\n",
       "    .dataframe tbody tr th:only-of-type {\n",
       "        vertical-align: middle;\n",
       "    }\n",
       "\n",
       "    .dataframe tbody tr th {\n",
       "        vertical-align: top;\n",
       "    }\n",
       "\n",
       "    .dataframe thead th {\n",
       "        text-align: right;\n",
       "    }\n",
       "</style>\n",
       "<table border=\"1\" class=\"dataframe\">\n",
       "  <thead>\n",
       "    <tr style=\"text-align: right;\">\n",
       "      <th></th>\n",
       "      <th>distance</th>\n",
       "      <th>gravitational_force</th>\n",
       "      <th>wind_speed</th>\n",
       "      <th>wind_direction</th>\n",
       "      <th>projectile_mass</th>\n",
       "      <th>hauteur_tir</th>\n",
       "    </tr>\n",
       "  </thead>\n",
       "  <tbody>\n",
       "    <tr>\n",
       "      <th>count</th>\n",
       "      <td>50000.000000</td>\n",
       "      <td>50000.000000</td>\n",
       "      <td>50000.000000</td>\n",
       "      <td>50000.000000</td>\n",
       "      <td>50000.000000</td>\n",
       "      <td>50000.000000</td>\n",
       "    </tr>\n",
       "    <tr>\n",
       "      <th>mean</th>\n",
       "      <td>274.552418</td>\n",
       "      <td>1.252632</td>\n",
       "      <td>10.023339</td>\n",
       "      <td>180.397627</td>\n",
       "      <td>5.050865</td>\n",
       "      <td>108.931179</td>\n",
       "    </tr>\n",
       "    <tr>\n",
       "      <th>std</th>\n",
       "      <td>129.945226</td>\n",
       "      <td>0.432423</td>\n",
       "      <td>5.780206</td>\n",
       "      <td>104.053196</td>\n",
       "      <td>2.861954</td>\n",
       "      <td>73.883734</td>\n",
       "    </tr>\n",
       "    <tr>\n",
       "      <th>min</th>\n",
       "      <td>50.009551</td>\n",
       "      <td>0.500055</td>\n",
       "      <td>0.000206</td>\n",
       "      <td>0.019693</td>\n",
       "      <td>0.100013</td>\n",
       "      <td>2.489976</td>\n",
       "    </tr>\n",
       "    <tr>\n",
       "      <th>25%</th>\n",
       "      <td>162.567906</td>\n",
       "      <td>0.879793</td>\n",
       "      <td>5.003470</td>\n",
       "      <td>89.832346</td>\n",
       "      <td>2.574565</td>\n",
       "      <td>44.804914</td>\n",
       "    </tr>\n",
       "    <tr>\n",
       "      <th>50%</th>\n",
       "      <td>274.113638</td>\n",
       "      <td>1.251194</td>\n",
       "      <td>10.057454</td>\n",
       "      <td>180.786892</td>\n",
       "      <td>5.038194</td>\n",
       "      <td>92.208405</td>\n",
       "    </tr>\n",
       "    <tr>\n",
       "      <th>75%</th>\n",
       "      <td>387.249468</td>\n",
       "      <td>1.627666</td>\n",
       "      <td>15.013690</td>\n",
       "      <td>270.664220</td>\n",
       "      <td>7.518826</td>\n",
       "      <td>166.726757</td>\n",
       "    </tr>\n",
       "    <tr>\n",
       "      <th>max</th>\n",
       "      <td>499.990235</td>\n",
       "      <td>1.999999</td>\n",
       "      <td>19.999946</td>\n",
       "      <td>359.994042</td>\n",
       "      <td>9.999979</td>\n",
       "      <td>294.214861</td>\n",
       "    </tr>\n",
       "  </tbody>\n",
       "</table>\n",
       "</div>"
      ],
      "text/plain": [
       "           distance  gravitational_force  ...  projectile_mass   hauteur_tir\n",
       "count  50000.000000         50000.000000  ...     50000.000000  50000.000000\n",
       "mean     274.552418             1.252632  ...         5.050865    108.931179\n",
       "std      129.945226             0.432423  ...         2.861954     73.883734\n",
       "min       50.009551             0.500055  ...         0.100013      2.489976\n",
       "25%      162.567906             0.879793  ...         2.574565     44.804914\n",
       "50%      274.113638             1.251194  ...         5.038194     92.208405\n",
       "75%      387.249468             1.627666  ...         7.518826    166.726757\n",
       "max      499.990235             1.999999  ...         9.999979    294.214861\n",
       "\n",
       "[8 rows x 6 columns]"
      ]
     },
     "execution_count": 53,
     "metadata": {},
     "output_type": "execute_result"
    }
   ],
   "source": [
    "df.describe()"
   ]
  },
  {
   "cell_type": "markdown",
   "id": "77d93ad5",
   "metadata": {},
   "source": [
    "#### Analyser graphiquement du dataset"
   ]
  },
  {
   "cell_type": "code",
   "execution_count": 54,
   "id": "a75b3c7d",
   "metadata": {},
   "outputs": [],
   "source": [
    "# sns.pairplot(df)"
   ]
  },
  {
   "cell_type": "markdown",
   "id": "209e0969",
   "metadata": {},
   "source": [
    "#### Utilisation de PMC"
   ]
  },
  {
   "cell_type": "code",
   "execution_count": 55,
   "id": "e4e7d650",
   "metadata": {},
   "outputs": [
    {
     "name": "stdout",
     "output_type": "stream",
     "text": [
      "(40000, 5)\n",
      "(40000,)\n"
     ]
    }
   ],
   "source": [
    "### diviser le dataset \n",
    "Y = df[\"hauteur_tir\"]\n",
    "x= df.drop(\"hauteur_tir\" , axis=1)\n",
    "\n",
    "x_train , x_test , Y_train , Y_test = train_test_split(x ,Y , test_size=0.2 , random_state=40)\n",
    "\n",
    "print(x_train.shape)\n",
    "print(Y_train.shape)"
   ]
  },
  {
   "cell_type": "code",
   "execution_count": 56,
   "id": "d3c8ce08",
   "metadata": {},
   "outputs": [
    {
     "name": "stdout",
     "output_type": "stream",
     "text": [
      "X_traint: (40000, 5)\n"
     ]
    }
   ],
   "source": [
    "### Normaliser le dataset \n",
    "scaller = StandardScaler()\n",
    "\n",
    "x_train_scaller = scaller.fit_transform(x_train)\n",
    "x_test_scaller = scaller.transform(x_test)\n",
    "\n",
    "print(\"X_traint:\" , x_train.shape)"
   ]
  },
  {
   "cell_type": "code",
   "execution_count": 62,
   "id": "c46877de",
   "metadata": {},
   "outputs": [],
   "source": [
    "### creer un model sequentiel  \n",
    "\n",
    "model = Sequential([\n",
    "     Dense(5 , input_shape = (5,)), \n",
    "     Dense(64 , activation = \"relu\"),\n",
    "     Dense(1 , activation = \"linear\")\n",
    "     \n",
    "])"
   ]
  },
  {
   "cell_type": "code",
   "execution_count": 68,
   "id": "3656ea15",
   "metadata": {},
   "outputs": [],
   "source": [
    "### compiler le model \n",
    "model.compile(optimizer=Adam(learning_rate=0.001), loss='mse')"
   ]
  },
  {
   "cell_type": "code",
   "execution_count": 71,
   "id": "e4464d9a",
   "metadata": {},
   "outputs": [
    {
     "name": "stdout",
     "output_type": "stream",
     "text": [
      "Epoch 1/50\n",
      "1250/1250 [==============================] - 3s 2ms/step - loss: 0.0820\n",
      "Epoch 2/50\n",
      "1250/1250 [==============================] - 4s 3ms/step - loss: 0.0813\n",
      "Epoch 3/50\n",
      "1250/1250 [==============================] - 3s 2ms/step - loss: 0.0739\n",
      "Epoch 4/50\n",
      "1250/1250 [==============================] - 3s 2ms/step - loss: 0.0666\n",
      "Epoch 5/50\n",
      "1250/1250 [==============================] - 3s 2ms/step - loss: 0.0656\n",
      "Epoch 6/50\n",
      "1250/1250 [==============================] - 5s 4ms/step - loss: 0.0619\n",
      "Epoch 7/50\n",
      "1250/1250 [==============================] - 3s 2ms/step - loss: 0.0559\n",
      "Epoch 8/50\n",
      "1250/1250 [==============================] - 5s 4ms/step - loss: 0.0541\n",
      "Epoch 9/50\n",
      "1250/1250 [==============================] - 4s 3ms/step - loss: 0.0495\n",
      "Epoch 10/50\n",
      "1250/1250 [==============================] - 4s 4ms/step - loss: 0.0500\n",
      "Epoch 11/50\n",
      "1250/1250 [==============================] - 4s 3ms/step - loss: 0.0468\n",
      "Epoch 12/50\n",
      "1250/1250 [==============================] - 5s 4ms/step - loss: 0.0463\n",
      "Epoch 13/50\n",
      "1250/1250 [==============================] - 4s 4ms/step - loss: 0.0428\n",
      "Epoch 14/50\n",
      "1250/1250 [==============================] - 4s 3ms/step - loss: 0.0417\n",
      "Epoch 15/50\n",
      "1250/1250 [==============================] - 3s 3ms/step - loss: 0.0420\n",
      "Epoch 16/50\n",
      "1250/1250 [==============================] - 3s 2ms/step - loss: 0.0396\n",
      "Epoch 17/50\n",
      "1250/1250 [==============================] - 3s 2ms/step - loss: 0.0398\n",
      "Epoch 18/50\n",
      "1250/1250 [==============================] - 3s 3ms/step - loss: 0.0397\n",
      "Epoch 19/50\n",
      "1250/1250 [==============================] - 3s 3ms/step - loss: 0.0392\n",
      "Epoch 20/50\n",
      "1250/1250 [==============================] - 3s 2ms/step - loss: 0.0381\n",
      "Epoch 21/50\n",
      "1250/1250 [==============================] - 3s 2ms/step - loss: 0.0374\n",
      "Epoch 22/50\n",
      "1250/1250 [==============================] - 3s 2ms/step - loss: 0.0372\n",
      "Epoch 23/50\n",
      "1250/1250 [==============================] - 3s 3ms/step - loss: 0.0361\n",
      "Epoch 24/50\n",
      "1250/1250 [==============================] - 4s 3ms/step - loss: 0.0355\n",
      "Epoch 25/50\n",
      "1250/1250 [==============================] - 4s 3ms/step - loss: 0.0354\n",
      "Epoch 26/50\n",
      "1250/1250 [==============================] - 3s 2ms/step - loss: 0.0339\n",
      "Epoch 27/50\n",
      "1250/1250 [==============================] - 3s 2ms/step - loss: 0.0348\n",
      "Epoch 28/50\n",
      "1250/1250 [==============================] - 3s 2ms/step - loss: 0.0332\n",
      "Epoch 29/50\n",
      "1250/1250 [==============================] - 3s 3ms/step - loss: 0.0319\n",
      "Epoch 30/50\n",
      "1250/1250 [==============================] - 3s 3ms/step - loss: 0.0323\n",
      "Epoch 31/50\n",
      "1250/1250 [==============================] - 4s 4ms/step - loss: 0.0328\n",
      "Epoch 32/50\n",
      "1250/1250 [==============================] - 4s 3ms/step - loss: 0.0328\n",
      "Epoch 33/50\n",
      "1250/1250 [==============================] - 3s 3ms/step - loss: 0.0316\n",
      "Epoch 34/50\n",
      "1250/1250 [==============================] - 4s 3ms/step - loss: 0.0332\n",
      "Epoch 35/50\n",
      "1250/1250 [==============================] - 5s 4ms/step - loss: 0.0298\n",
      "Epoch 36/50\n",
      "1250/1250 [==============================] - 4s 3ms/step - loss: 0.0303\n",
      "Epoch 37/50\n",
      "1250/1250 [==============================] - 3s 3ms/step - loss: 0.0329\n",
      "Epoch 38/50\n",
      "1250/1250 [==============================] - 4s 3ms/step - loss: 0.0299\n",
      "Epoch 39/50\n",
      "1250/1250 [==============================] - 4s 3ms/step - loss: 0.0313\n",
      "Epoch 40/50\n",
      "1250/1250 [==============================] - 4s 3ms/step - loss: 0.0286\n",
      "Epoch 41/50\n",
      "1250/1250 [==============================] - 3s 2ms/step - loss: 0.0311\n",
      "Epoch 42/50\n",
      "1250/1250 [==============================] - 4s 3ms/step - loss: 0.0317\n",
      "Epoch 43/50\n",
      "1250/1250 [==============================] - 3s 3ms/step - loss: 0.0296\n",
      "Epoch 44/50\n",
      "1250/1250 [==============================] - 3s 3ms/step - loss: 0.0292\n",
      "Epoch 45/50\n",
      "1250/1250 [==============================] - 4s 3ms/step - loss: 0.0297\n",
      "Epoch 46/50\n",
      "1250/1250 [==============================] - 4s 3ms/step - loss: 0.0295\n",
      "Epoch 47/50\n",
      "1250/1250 [==============================] - 4s 3ms/step - loss: 0.0295\n",
      "Epoch 48/50\n",
      "1250/1250 [==============================] - 4s 3ms/step - loss: 0.0288\n",
      "Epoch 49/50\n",
      "1250/1250 [==============================] - 4s 3ms/step - loss: 0.0285\n",
      "Epoch 50/50\n",
      "1250/1250 [==============================] - 4s 4ms/step - loss: 0.0274\n"
     ]
    }
   ],
   "source": [
    "##  entrainer le model \n",
    "history = model.fit(x_train_scaller , Y_train , epochs= 50)"
   ]
  },
  {
   "cell_type": "code",
   "execution_count": null,
   "id": "31c8c7a0",
   "metadata": {},
   "outputs": [
    {
     "name": "stdout",
     "output_type": "stream",
     "text": [
      "313/313 [==============================] - 1s 2ms/step - loss: 0.0716\n"
     ]
    },
    {
     "data": {
      "text/plain": [
       "0.07155640423297882"
      ]
     },
     "execution_count": 90,
     "metadata": {},
     "output_type": "execute_result"
    }
   ],
   "source": [
    "loss_test = model.evaluate(x_test_scaller, Y_test)\n"
   ]
  },
  {
   "cell_type": "code",
   "execution_count": 75,
   "id": "f2121482",
   "metadata": {},
   "outputs": [
    {
     "name": "stdout",
     "output_type": "stream",
     "text": [
      "313/313 [==============================] - 1s 2ms/step\n"
     ]
    },
    {
     "data": {
      "text/plain": [
       "array([[ 37.640255],\n",
       "       [ 56.790623],\n",
       "       [142.80946 ],\n",
       "       ...,\n",
       "       [ 46.08364 ],\n",
       "       [132.1908  ],\n",
       "       [155.30147 ]], dtype=float32)"
      ]
     },
     "execution_count": 75,
     "metadata": {},
     "output_type": "execute_result"
    }
   ],
   "source": [
    "### faire la prediction \n",
    "y_pred = model.predict(x_test_scaller)\n",
    "\n",
    "y_pred"
   ]
  },
  {
   "cell_type": "code",
   "execution_count": 78,
   "id": "57663b5e",
   "metadata": {},
   "outputs": [
    {
     "name": "stdout",
     "output_type": "stream",
     "text": [
      "R2 :  0.9999868434885145\n"
     ]
    }
   ],
   "source": [
    "### evaluer le model \n",
    "R2 = r2_score(Y_test , y_pred)\n",
    "\n",
    "print(\"R2 : \" , R2)"
   ]
  },
  {
   "cell_type": "code",
   "execution_count": 91,
   "id": "3b3330eb",
   "metadata": {},
   "outputs": [
    {
     "data": {
      "image/png": "[encoded data removed]",
      "text/plain": [
       "<Figure size 640x480 with 1 Axes>"
      ]
     },
     "metadata": {},
     "output_type": "display_data"
    }
   ],
   "source": [
    "## \n",
    "loss_train = history.history[\"loss\"]\n",
    "plt.plot(loss_train)\n",
    "plt.show()\n",
    "\n"
   ]
  }
 ],
 "metadata": {
  "kernelspec": {
   "display_name": "EnvDeepLearn",
   "language": "python",
   "name": "python3"
  },
  "language_info": {
   "codemirror_mode": {
    "name": "ipython",
    "version": 3
   },
   "file_extension": ".py",
   "mimetype": "text/x-python",
   "name": "python",
   "nbconvert_exporter": "python",
   "pygments_lexer": "ipython3",
   "version": "3.10.11"
  }
 },
 "nbformat": 4,
 "nbformat_minor": 5
}
