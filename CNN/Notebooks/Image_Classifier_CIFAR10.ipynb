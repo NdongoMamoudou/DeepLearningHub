{
 "cells": [
  {
   "cell_type": "markdown",
   "id": "5fbc9f4b",
   "metadata": {},
   "source": [
    "#### Importer le bibliothéque"
   ]
  },
  {
   "cell_type": "code",
   "execution_count": 161,
   "id": "e09d7e54",
   "metadata": {},
   "outputs": [],
   "source": [
    "import numpy as np \n",
    "import pandas as pd \n",
    "\n",
    "import matplotlib.pyplot as plt \n",
    "import seaborn as sns \n",
    "\n",
    "from sklearn.model_selection import train_test_split\n",
    "from sklearn.preprocessing import StandardScaler , LabelEncoder\n",
    "\n",
    "from tensorflow.keras.models  import Sequential\n",
    "from tensorflow.keras.layers import Dense , Conv2D  , MaxPool2D , Flatten , Dropout, BatchNormalization\n",
    "from tensorflow.keras.optimizers import Adam\n",
    "from tensorflow.keras.utils import to_categorical\n",
    "from tensorflow.keras.datasets import cifar10"
   ]
  },
  {
   "cell_type": "markdown",
   "id": "d932f9d3",
   "metadata": {},
   "source": [
    "#### Importer le dataset"
   ]
  },
  {
   "cell_type": "code",
   "execution_count": 162,
   "id": "a87b15c1",
   "metadata": {},
   "outputs": [],
   "source": [
    "(x_train , y_train) , (x_test , y_test) = cifar10.load_data()"
   ]
  },
  {
   "cell_type": "markdown",
   "id": "834104e9",
   "metadata": {},
   "source": [
    "#### Analyser le dataset"
   ]
  },
  {
   "cell_type": "code",
   "execution_count": 163,
   "id": "5931646b",
   "metadata": {},
   "outputs": [
    {
     "data": {
      "text/plain": [
       "((50000, 32, 32, 3), (10000, 32, 32, 3))"
      ]
     },
     "execution_count": 163,
     "metadata": {},
     "output_type": "execute_result"
    }
   ],
   "source": [
    "x_train.shape , x_test.shape"
   ]
  },
  {
   "cell_type": "code",
   "execution_count": 164,
   "id": "9e251f17",
   "metadata": {},
   "outputs": [],
   "source": [
    "x_train  = x_train / 255\n",
    "x_test = x_test /255"
   ]
  },
  {
   "cell_type": "code",
   "execution_count": 165,
   "id": "9888bbaa",
   "metadata": {},
   "outputs": [],
   "source": [
    "class_names = [\n",
    "    'airplane',   # 0\n",
    "    'automobile', # 1\n",
    "    'bird',       # 2\n",
    "    'cat',        # 3\n",
    "    'deer',       # 4\n",
    "    'dog',        # 5\n",
    "    'frog',       # 6\n",
    "    'horse',      # 7\n",
    "    'ship',       # 8\n",
    "    'truck'       # 9\n",
    "]\n"
   ]
  },
  {
   "cell_type": "code",
   "execution_count": null,
   "id": "f98c27aa",
   "metadata": {},
   "outputs": [],
   "source": []
  },
  {
   "cell_type": "code",
   "execution_count": 166,
   "id": "d3327435",
   "metadata": {},
   "outputs": [
    {
     "name": "stdout",
     "output_type": "stream",
     "text": [
      "0 → airplane\n",
      "1 → automobile\n",
      "2 → bird\n",
      "3 → cat\n",
      "4 → deer\n",
      "5 → dog\n",
      "6 → frog\n",
      "7 → horse\n",
      "8 → ship\n",
      "9 → truck\n"
     ]
    }
   ],
   "source": [
    "classes_uniques = np.unique(y_train)\n",
    "for i in classes_uniques:\n",
    "    print(f\"{i} → {class_names[i]}\")"
   ]
  },
  {
   "cell_type": "code",
   "execution_count": 167,
   "id": "2e37b422",
   "metadata": {},
   "outputs": [
    {
     "data": {
      "image/png": "[encoded data removed]",
      "text/plain": [
       "<Figure size 300x300 with 1 Axes>"
      ]
     },
     "metadata": {},
     "output_type": "display_data"
    }
   ],
   "source": [
    "import matplotlib.pyplot as plt\n",
    "\n",
    "plt.figure(figsize=(3, 3))  # plus grand affichage\n",
    "plt.imshow(x_train[1], interpolation='nearest')  # pas de flou\n",
    "#plt.title(f\"Classe : {class_names[y_train[1][0]]}\")\n",
    "plt.axis('off')\n",
    "plt.show()\n"
   ]
  },
  {
   "cell_type": "code",
   "execution_count": 168,
   "id": "a4859280",
   "metadata": {},
   "outputs": [
    {
     "data": {
      "text/plain": [
       "10"
      ]
     },
     "execution_count": 168,
     "metadata": {},
     "output_type": "execute_result"
    }
   ],
   "source": [
    "n_class = len(np.unique(y_train))\n",
    "n_class"
   ]
  },
  {
   "cell_type": "code",
   "execution_count": 169,
   "id": "332a729b",
   "metadata": {},
   "outputs": [],
   "source": [
    "### transformer la variable cible en catégoriales(one_hot_encoder)\n",
    "y_train_cat = to_categorical(y_train, n_class)\n",
    "y_test_cat = to_categorical(y_test,n_class )"
   ]
  },
  {
   "cell_type": "code",
   "execution_count": null,
   "id": "7371cda6",
   "metadata": {},
   "outputs": [],
   "source": [
    "### Creer un model \n",
    "\n",
    "model = Sequential([\n",
    "    Conv2D(32, kernel_size=(3,3), activation='relu', input_shape=(32,32,3)),\n",
    "    BatchNormalization(),\n",
    "    MaxPool2D(pool_size=(2,2)),\n",
    "    Dropout(0.25),\n",
    "\n",
    "    Conv2D(64, kernel_size=(3,3), activation='relu'),\n",
    "    BatchNormalization(),\n",
    "    MaxPool2D(pool_size=(2,2)),\n",
    "    Dropout(0.25),\n",
    "\n",
    "    Conv2D(128, kernel_size=(3,3), activation='relu'),\n",
    "    BatchNormalization(),         \n",
    "    Dropout(0.25),               \n",
    "\n",
    "    Flatten(),\n",
    "    Dense(128, activation='relu'),\n",
    "    Dropout(0.5),                 \n",
    "    Dense(n_class, activation='softmax')\n",
    "])\n",
    "\n"
   ]
  },
  {
   "cell_type": "code",
   "execution_count": 171,
   "id": "0debfaa0",
   "metadata": {},
   "outputs": [],
   "source": [
    "## compilation du model\n",
    "model.compile(optimizer=Adam(learning_rate=0.001) , loss ='categorical_crossentropy' , metrics=['accuracy'])"
   ]
  },
  {
   "cell_type": "code",
   "execution_count": 172,
   "id": "84192fda",
   "metadata": {},
   "outputs": [
    {
     "name": "stdout",
     "output_type": "stream",
     "text": [
      "Epoch 1/50\n",
      "1563/1563 [==============================] - 60s 37ms/step - loss: 1.5538 - accuracy: 0.4260\n",
      "Epoch 2/50\n",
      "1563/1563 [==============================] - 60s 38ms/step - loss: 1.1851 - accuracy: 0.5757\n",
      "Epoch 3/50\n",
      "1563/1563 [==============================] - 63s 40ms/step - loss: 1.0365 - accuracy: 0.6304\n",
      "Epoch 4/50\n",
      "1563/1563 [==============================] - 61s 39ms/step - loss: 0.9404 - accuracy: 0.6680\n",
      "Epoch 5/50\n",
      "1563/1563 [==============================] - 64s 41ms/step - loss: 0.8723 - accuracy: 0.6954\n",
      "Epoch 6/50\n",
      "1563/1563 [==============================] - 63s 40ms/step - loss: 0.8240 - accuracy: 0.7098\n",
      "Epoch 7/50\n",
      "1563/1563 [==============================] - 61s 39ms/step - loss: 0.7842 - accuracy: 0.7235\n",
      "Epoch 8/50\n",
      "1563/1563 [==============================] - 65s 41ms/step - loss: 0.7416 - accuracy: 0.7388\n",
      "Epoch 9/50\n",
      "1563/1563 [==============================] - 61s 39ms/step - loss: 0.7228 - accuracy: 0.7447\n",
      "Epoch 10/50\n",
      "1563/1563 [==============================] - 48s 31ms/step - loss: 0.6924 - accuracy: 0.7557\n",
      "Epoch 11/50\n",
      "1563/1563 [==============================] - 51s 33ms/step - loss: 0.6726 - accuracy: 0.7643\n",
      "Epoch 12/50\n",
      "1563/1563 [==============================] - 47s 30ms/step - loss: 0.6543 - accuracy: 0.7682\n",
      "Epoch 13/50\n",
      "1563/1563 [==============================] - 42s 27ms/step - loss: 0.6382 - accuracy: 0.7766\n",
      "Epoch 14/50\n",
      "1563/1563 [==============================] - 53s 34ms/step - loss: 0.6149 - accuracy: 0.7837\n",
      "Epoch 15/50\n",
      "1563/1563 [==============================] - 64s 41ms/step - loss: 0.6020 - accuracy: 0.7881\n",
      "Epoch 16/50\n",
      "1563/1563 [==============================] - 64s 41ms/step - loss: 0.5845 - accuracy: 0.7939\n",
      "Epoch 17/50\n",
      "1563/1563 [==============================] - 66s 42ms/step - loss: 0.5725 - accuracy: 0.7973\n",
      "Epoch 18/50\n",
      "1563/1563 [==============================] - 65s 41ms/step - loss: 0.5596 - accuracy: 0.8010\n",
      "Epoch 19/50\n",
      "1563/1563 [==============================] - 64s 41ms/step - loss: 0.5488 - accuracy: 0.8075\n",
      "Epoch 20/50\n",
      "1563/1563 [==============================] - 68s 44ms/step - loss: 0.5457 - accuracy: 0.8064\n",
      "Epoch 21/50\n",
      "1563/1563 [==============================] - 68s 44ms/step - loss: 0.5331 - accuracy: 0.8107\n",
      "Epoch 22/50\n",
      "1563/1563 [==============================] - 66s 42ms/step - loss: 0.5290 - accuracy: 0.8144\n",
      "Epoch 23/50\n",
      "1563/1563 [==============================] - 74s 47ms/step - loss: 0.5201 - accuracy: 0.8152\n",
      "Epoch 24/50\n",
      "1563/1563 [==============================] - 68s 43ms/step - loss: 0.5057 - accuracy: 0.8205\n",
      "Epoch 25/50\n",
      "1563/1563 [==============================] - 78s 50ms/step - loss: 0.5024 - accuracy: 0.8211\n",
      "Epoch 26/50\n",
      "1563/1563 [==============================] - 61s 39ms/step - loss: 0.4911 - accuracy: 0.8275\n",
      "Epoch 27/50\n",
      "1563/1563 [==============================] - 66s 42ms/step - loss: 0.4890 - accuracy: 0.8271\n",
      "Epoch 28/50\n",
      "1563/1563 [==============================] - 80s 51ms/step - loss: 0.4768 - accuracy: 0.8322\n",
      "Epoch 29/50\n",
      "1563/1563 [==============================] - 79s 50ms/step - loss: 0.4773 - accuracy: 0.8309\n",
      "Epoch 30/50\n",
      "1563/1563 [==============================] - 73s 47ms/step - loss: 0.4667 - accuracy: 0.8358\n",
      "Epoch 31/50\n",
      "1563/1563 [==============================] - 63s 41ms/step - loss: 0.4618 - accuracy: 0.8362\n",
      "Epoch 32/50\n",
      "1563/1563 [==============================] - 80s 51ms/step - loss: 0.4615 - accuracy: 0.8369\n",
      "Epoch 33/50\n",
      "1563/1563 [==============================] - 111s 71ms/step - loss: 0.4554 - accuracy: 0.8386\n",
      "Epoch 34/50\n",
      "1563/1563 [==============================] - 51s 33ms/step - loss: 0.4475 - accuracy: 0.8420\n",
      "Epoch 35/50\n",
      "1563/1563 [==============================] - 43s 27ms/step - loss: 0.4439 - accuracy: 0.8432\n",
      "Epoch 36/50\n",
      "1563/1563 [==============================] - 41s 26ms/step - loss: 0.4384 - accuracy: 0.8440\n",
      "Epoch 37/50\n",
      "1563/1563 [==============================] - 42s 27ms/step - loss: 0.4383 - accuracy: 0.8451\n",
      "Epoch 38/50\n",
      "1563/1563 [==============================] - 43s 27ms/step - loss: 0.4371 - accuracy: 0.8444\n",
      "Epoch 39/50\n",
      "1563/1563 [==============================] - 38s 24ms/step - loss: 0.4325 - accuracy: 0.8462\n",
      "Epoch 40/50\n",
      "1563/1563 [==============================] - 39s 25ms/step - loss: 0.4232 - accuracy: 0.8504\n",
      "Epoch 41/50\n",
      "1563/1563 [==============================] - 48s 30ms/step - loss: 0.4224 - accuracy: 0.8497\n",
      "Epoch 42/50\n",
      "1563/1563 [==============================] - 45s 29ms/step - loss: 0.4202 - accuracy: 0.8511\n",
      "Epoch 43/50\n",
      "1563/1563 [==============================] - 42s 27ms/step - loss: 0.4184 - accuracy: 0.8521\n",
      "Epoch 44/50\n",
      "1563/1563 [==============================] - 42s 27ms/step - loss: 0.4122 - accuracy: 0.8549\n",
      "Epoch 45/50\n",
      "1563/1563 [==============================] - 42s 27ms/step - loss: 0.4100 - accuracy: 0.8537\n",
      "Epoch 46/50\n",
      "1563/1563 [==============================] - 42s 27ms/step - loss: 0.4016 - accuracy: 0.8595\n",
      "Epoch 47/50\n",
      "1563/1563 [==============================] - 41s 26ms/step - loss: 0.3993 - accuracy: 0.8599\n",
      "Epoch 48/50\n",
      "1563/1563 [==============================] - 40s 25ms/step - loss: 0.3997 - accuracy: 0.8608\n",
      "Epoch 49/50\n",
      "1563/1563 [==============================] - 38s 24ms/step - loss: 0.4000 - accuracy: 0.8611\n",
      "Epoch 50/50\n",
      "1563/1563 [==============================] - 39s 25ms/step - loss: 0.3915 - accuracy: 0.8622\n"
     ]
    }
   ],
   "source": [
    "### Entrainer le model \n",
    "\n",
    "history = model.fit(x_train , y_train_cat , epochs=50)"
   ]
  },
  {
   "cell_type": "code",
   "execution_count": 175,
   "id": "8494cb43",
   "metadata": {},
   "outputs": [
    {
     "name": "stdout",
     "output_type": "stream",
     "text": [
      "313/313 [==============================] - 2s 8ms/step - loss: 0.8877 - accuracy: 0.7406\n"
     ]
    }
   ],
   "source": [
    "### Evaluation du model \n",
    "\n",
    "loss_tess , accuracy_test = model.evaluate(x_test , y_test_cat)"
   ]
  },
  {
   "cell_type": "code",
   "execution_count": 174,
   "id": "61a644dd",
   "metadata": {},
   "outputs": [
    {
     "data": {
      "image/png": "[encoded data removed]",
      "text/plain": [
       "<Figure size 640x480 with 1 Axes>"
      ]
     },
     "metadata": {},
     "output_type": "display_data"
    },
    {
     "data": {
      "image/png": "[encoded data removed]",
      "text/plain": [
       "<Figure size 640x480 with 1 Axes>"
      ]
     },
     "metadata": {},
     "output_type": "display_data"
    }
   ],
   "source": [
    "### Tracer la courbe de loss et accuracy du train \n",
    "\n",
    "### Graphe loss et accuracy \n",
    "loss_train = history.history[\"loss\"]\n",
    "accuracy_train = history.history[\"accuracy\"]\n",
    "\n",
    "plt.plot(loss_train)\n",
    "plt.title(\"Loss\")\n",
    "plt.show()\n",
    "plt.plot(accuracy_train)\n",
    "plt.title(\"Accuracy\")\n",
    "plt.show()"
   ]
  }
 ],
 "metadata": {
  "kernelspec": {
   "display_name": "EnvDeepLearn",
   "language": "python",
   "name": "python3"
  },
  "language_info": {
   "codemirror_mode": {
    "name": "ipython",
    "version": 3
   },
   "file_extension": ".py",
   "mimetype": "text/x-python",
   "name": "python",
   "nbconvert_exporter": "python",
   "pygments_lexer": "ipython3",
   "version": "3.10.11"
  }
 },
 "nbformat": 4,
 "nbformat_minor": 5
}
