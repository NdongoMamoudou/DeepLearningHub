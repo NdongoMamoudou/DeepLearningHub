{
 "cells": [
  {
   "cell_type": "markdown",
   "id": "5fbc9f4b",
   "metadata": {},
   "source": [
    "#### Importer le bibliothéque"
   ]
  },
  {
   "cell_type": "code",
   "execution_count": 111,
   "id": "e09d7e54",
   "metadata": {},
   "outputs": [],
   "source": [
    "import numpy as np \n",
    "import pandas as pd \n",
    "\n",
    "import matplotlib.pyplot as plt \n",
    "import seaborn as sns \n",
    "\n",
    "from sklearn.model_selection import train_test_split\n",
    "from sklearn.preprocessing import StandardScaler , LabelEncoder\n",
    "\n",
    "from tensorflow.keras.models  import Sequential\n",
    "from tensorflow.keras.layers import Dense , Conv2D  , MaxPool2D , Flatten\n",
    "from tensorflow.keras.optimizers import Adam\n",
    "from tensorflow.keras.utils import to_categorical\n",
    "from tensorflow.keras.datasets import cifar10"
   ]
  },
  {
   "cell_type": "markdown",
   "id": "d932f9d3",
   "metadata": {},
   "source": [
    "#### Importer le dataset"
   ]
  },
  {
   "cell_type": "code",
   "execution_count": 112,
   "id": "a87b15c1",
   "metadata": {},
   "outputs": [],
   "source": [
    "(x_train , y_train) , (x_test , y_test) = cifar10.load_data()"
   ]
  },
  {
   "cell_type": "markdown",
   "id": "834104e9",
   "metadata": {},
   "source": [
    "#### Analyser le dataset"
   ]
  },
  {
   "cell_type": "code",
   "execution_count": 113,
   "id": "5931646b",
   "metadata": {},
   "outputs": [
    {
     "data": {
      "text/plain": [
       "((50000, 32, 32, 3), (10000, 32, 32, 3))"
      ]
     },
     "execution_count": 113,
     "metadata": {},
     "output_type": "execute_result"
    }
   ],
   "source": [
    "x_train.shape , x_test.shape"
   ]
  },
  {
   "cell_type": "code",
   "execution_count": 114,
   "id": "9e251f17",
   "metadata": {},
   "outputs": [],
   "source": [
    "x_train  = x_train / 255\n",
    "x_test = x_test /255"
   ]
  },
  {
   "cell_type": "code",
   "execution_count": 115,
   "id": "9888bbaa",
   "metadata": {},
   "outputs": [],
   "source": [
    "class_names = [\n",
    "    'airplane',   # 0\n",
    "    'automobile', # 1\n",
    "    'bird',       # 2\n",
    "    'cat',        # 3\n",
    "    'deer',       # 4\n",
    "    'dog',        # 5\n",
    "    'frog',       # 6\n",
    "    'horse',      # 7\n",
    "    'ship',       # 8\n",
    "    'truck'       # 9\n",
    "]\n"
   ]
  },
  {
   "cell_type": "code",
   "execution_count": null,
   "id": "f98c27aa",
   "metadata": {},
   "outputs": [],
   "source": []
  },
  {
   "cell_type": "code",
   "execution_count": 116,
   "id": "d3327435",
   "metadata": {},
   "outputs": [
    {
     "name": "stdout",
     "output_type": "stream",
     "text": [
      "0 → airplane\n",
      "1 → automobile\n",
      "2 → bird\n",
      "3 → cat\n",
      "4 → deer\n",
      "5 → dog\n",
      "6 → frog\n",
      "7 → horse\n",
      "8 → ship\n",
      "9 → truck\n"
     ]
    }
   ],
   "source": [
    "classes_uniques = np.unique(y_train)\n",
    "for i in classes_uniques:\n",
    "    print(f\"{i} → {class_names[i]}\")"
   ]
  },
  {
   "cell_type": "code",
   "execution_count": 117,
   "id": "2e37b422",
   "metadata": {},
   "outputs": [
    {
     "data": {
      "image/png": "[encoded data removed]",
      "text/plain": [
       "<Figure size 300x300 with 1 Axes>"
      ]
     },
     "metadata": {},
     "output_type": "display_data"
    }
   ],
   "source": [
    "import matplotlib.pyplot as plt\n",
    "\n",
    "plt.figure(figsize=(3, 3))  # plus grand affichage\n",
    "plt.imshow(x_train[1], interpolation='nearest')  # pas de flou\n",
    "#plt.title(f\"Classe : {class_names[y_train[1][0]]}\")\n",
    "plt.axis('off')\n",
    "plt.show()\n"
   ]
  },
  {
   "cell_type": "code",
   "execution_count": 118,
   "id": "a4859280",
   "metadata": {},
   "outputs": [
    {
     "data": {
      "text/plain": [
       "10"
      ]
     },
     "execution_count": 118,
     "metadata": {},
     "output_type": "execute_result"
    }
   ],
   "source": [
    "n_class = len(np.unique(y_train))\n",
    "n_class"
   ]
  },
  {
   "cell_type": "code",
   "execution_count": 119,
   "id": "332a729b",
   "metadata": {},
   "outputs": [],
   "source": [
    "### transformer la variable cible en catégoriales(one_hot_encoder)\n",
    "y_train_cat = to_categorical(y_train, n_class)\n",
    "y_test_cat = to_categorical(y_test,n_class )"
   ]
  },
  {
   "cell_type": "code",
   "execution_count": 120,
   "id": "7371cda6",
   "metadata": {},
   "outputs": [],
   "source": [
    "### Creer un model \n",
    "model = Sequential([\n",
    "    Conv2D(32, kernel_size=(3,3), activation='relu', input_shape=(32,32,3)),\n",
    "    MaxPool2D(pool_size=(2,2)),\n",
    "    Conv2D(64, kernel_size=(3,3), activation='relu'),\n",
    "    MaxPool2D(pool_size=(2,2)),\n",
    "    Conv2D(128, kernel_size=(3,3), activation='relu'),\n",
    "    Flatten(),\n",
    "    Dense(50, activation='relu'),\n",
    "    Dense(n_class, activation='softmax')\n",
    "])\n"
   ]
  },
  {
   "cell_type": "code",
   "execution_count": 121,
   "id": "0debfaa0",
   "metadata": {},
   "outputs": [],
   "source": [
    "## compilation du model\n",
    "model.compile(optimizer=Adam(learning_rate=0.001) , loss ='categorical_crossentropy' , metrics=['accuracy'])"
   ]
  },
  {
   "cell_type": "code",
   "execution_count": null,
   "id": "84192fda",
   "metadata": {},
   "outputs": [],
   "source": [
    "### Entrainer le model \n",
    "\n",
    "history = model.fit(x_train , y_train_cat , epochs=50)"
   ]
  },
  {
   "cell_type": "code",
   "execution_count": null,
   "id": "8494cb43",
   "metadata": {},
   "outputs": [
    {
     "name": "stdout",
     "output_type": "stream",
     "text": [
      "313/313 [==============================] - 2s 5ms/step - loss: 1.1155 - accuracy: 0.6654\n"
     ]
    }
   ],
   "source": [
    "### Evaluation du model \n",
    "\n",
    "loss_tess , accuracy_test = model.evaluate(x_test , y_test_cat)"
   ]
  },
  {
   "cell_type": "code",
   "execution_count": null,
   "id": "61a644dd",
   "metadata": {},
   "outputs": [
    {
     "data": {
      "image/png": "[encoded data removed]",
      "text/plain": [
       "<Figure size 640x480 with 1 Axes>"
      ]
     },
     "metadata": {},
     "output_type": "display_data"
    },
    {
     "data": {
      "image/png": "[encoded data removed]",
      "text/plain": [
       "<Figure size 640x480 with 1 Axes>"
      ]
     },
     "metadata": {},
     "output_type": "display_data"
    }
   ],
   "source": [
    "### Tracer la courbe de loss et accuracy du train \n",
    "\n",
    "### Graphe loss et accuracy \n",
    "loss_train = history.history[\"loss\"]\n",
    "accuracy_train = history.history[\"accuracy\"]\n",
    "\n",
    "plt.plot(loss_train)\n",
    "plt.title(\"Loss\")\n",
    "plt.show()\n",
    "plt.plot(accuracy_train)\n",
    "plt.title(\"Accuracy\")\n",
    "plt.show()"
   ]
  }
 ],
 "metadata": {
  "kernelspec": {
   "display_name": "EnvDeepLearn",
   "language": "python",
   "name": "python3"
  },
  "language_info": {
   "codemirror_mode": {
    "name": "ipython",
    "version": 3
   },
   "file_extension": ".py",
   "mimetype": "text/x-python",
   "name": "python",
   "nbconvert_exporter": "python",
   "pygments_lexer": "ipython3",
   "version": "3.10.11"
  }
 },
 "nbformat": 4,
 "nbformat_minor": 5
}
