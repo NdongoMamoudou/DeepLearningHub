{
 "cells": [
  {
   "cell_type": "markdown",
   "id": "5fbc9f4b",
   "metadata": {},
   "source": [
    "#### Importer le bibliothéque"
   ]
  },
  {
   "cell_type": "code",
   "execution_count": 178,
   "id": "e09d7e54",
   "metadata": {},
   "outputs": [],
   "source": [
    "import numpy as np \n",
    "import pandas as pd \n",
    "\n",
    "import matplotlib.pyplot as plt \n",
    "import seaborn as sns \n",
    "\n",
    "from sklearn.model_selection import train_test_split\n",
    "from sklearn.preprocessing import StandardScaler , LabelEncoder\n",
    "\n",
    "from tensorflow.keras.models  import Sequential\n",
    "from tensorflow.keras.layers import Dense , Conv2D  , MaxPool2D , Flatten , Dropout, BatchNormalization\n",
    "from tensorflow.keras.optimizers import Adam\n",
    "from tensorflow.keras.utils import to_categorical\n",
    "from tensorflow.keras.datasets import cifar10"
   ]
  },
  {
   "cell_type": "markdown",
   "id": "d932f9d3",
   "metadata": {},
   "source": [
    "#### Importer le dataset"
   ]
  },
  {
   "cell_type": "code",
   "execution_count": 179,
   "id": "a87b15c1",
   "metadata": {},
   "outputs": [],
   "source": [
    "(x_train , y_train) , (x_test , y_test) = cifar10.load_data()"
   ]
  },
  {
   "cell_type": "markdown",
   "id": "834104e9",
   "metadata": {},
   "source": [
    "#### Analyser le dataset"
   ]
  },
  {
   "cell_type": "code",
   "execution_count": 180,
   "id": "5931646b",
   "metadata": {},
   "outputs": [
    {
     "data": {
      "text/plain": [
       "((50000, 32, 32, 3), (10000, 32, 32, 3))"
      ]
     },
     "execution_count": 180,
     "metadata": {},
     "output_type": "execute_result"
    }
   ],
   "source": [
    "x_train.shape , x_test.shape"
   ]
  },
  {
   "cell_type": "code",
   "execution_count": 181,
   "id": "9e251f17",
   "metadata": {},
   "outputs": [],
   "source": [
    "x_train  = x_train / 255\n",
    "x_test = x_test /255"
   ]
  },
  {
   "cell_type": "code",
   "execution_count": 182,
   "id": "9888bbaa",
   "metadata": {},
   "outputs": [],
   "source": [
    "class_names = [\n",
    "    'airplane',   # 0\n",
    "    'automobile', # 1\n",
    "    'bird',       # 2\n",
    "    'cat',        # 3\n",
    "    'deer',       # 4\n",
    "    'dog',        # 5\n",
    "    'frog',       # 6\n",
    "    'horse',      # 7\n",
    "    'ship',       # 8\n",
    "    'truck'       # 9\n",
    "]\n"
   ]
  },
  {
   "cell_type": "code",
   "execution_count": null,
   "id": "f98c27aa",
   "metadata": {},
   "outputs": [],
   "source": []
  },
  {
   "cell_type": "code",
   "execution_count": 183,
   "id": "d3327435",
   "metadata": {},
   "outputs": [
    {
     "name": "stdout",
     "output_type": "stream",
     "text": [
      "0 → airplane\n",
      "1 → automobile\n",
      "2 → bird\n",
      "3 → cat\n",
      "4 → deer\n",
      "5 → dog\n",
      "6 → frog\n",
      "7 → horse\n",
      "8 → ship\n",
      "9 → truck\n"
     ]
    }
   ],
   "source": [
    "classes_uniques = np.unique(y_train)\n",
    "for i in classes_uniques:\n",
    "    print(f\"{i} → {class_names[i]}\")"
   ]
  },
  {
   "cell_type": "code",
   "execution_count": 184,
   "id": "2e37b422",
   "metadata": {},
   "outputs": [
    {
     "data": {
      "image/png": "[encoded data removed]",
      "text/plain": [
       "<Figure size 300x300 with 1 Axes>"
      ]
     },
     "metadata": {},
     "output_type": "display_data"
    }
   ],
   "source": [
    "import matplotlib.pyplot as plt\n",
    "\n",
    "plt.figure(figsize=(3, 3))  # plus grand affichage\n",
    "plt.imshow(x_train[1], interpolation='nearest')  # pas de flou\n",
    "#plt.title(f\"Classe : {class_names[y_train[1][0]]}\")\n",
    "plt.axis('off')\n",
    "plt.show()\n"
   ]
  },
  {
   "cell_type": "code",
   "execution_count": 185,
   "id": "a4859280",
   "metadata": {},
   "outputs": [
    {
     "data": {
      "text/plain": [
       "10"
      ]
     },
     "execution_count": 185,
     "metadata": {},
     "output_type": "execute_result"
    }
   ],
   "source": [
    "n_class = len(np.unique(y_train))\n",
    "n_class"
   ]
  },
  {
   "cell_type": "code",
   "execution_count": 186,
   "id": "332a729b",
   "metadata": {},
   "outputs": [],
   "source": [
    "### transformer la variable cible en catégoriales(one_hot_encoder)\n",
    "y_train_cat = to_categorical(y_train, n_class)\n",
    "y_test_cat = to_categorical(y_test,n_class )"
   ]
  },
  {
   "cell_type": "code",
   "execution_count": 187,
   "id": "7371cda6",
   "metadata": {},
   "outputs": [],
   "source": [
    "### Creer un model \n",
    "\n",
    "model = Sequential([\n",
    "    Conv2D(32, kernel_size=(3,3), activation='relu', input_shape=(32,32,3)),\n",
    "    BatchNormalization(),\n",
    "    MaxPool2D(pool_size=(2,2)),\n",
    "    Dropout(0.25),\n",
    "\n",
    "    Conv2D(64, kernel_size=(3,3), activation='relu'),\n",
    "    BatchNormalization(),\n",
    "    MaxPool2D(pool_size=(2,2)),\n",
    "    Dropout(0.25),\n",
    "\n",
    "    Conv2D(128, kernel_size=(3,3), activation='relu'),\n",
    "    BatchNormalization(),         \n",
    "    Dropout(0.25),               \n",
    "\n",
    "    Flatten(),\n",
    "    Dense(128, activation='relu'),\n",
    "    Dropout(0.5),                 \n",
    "    Dense(n_class, activation='softmax')\n",
    "])\n",
    "\n"
   ]
  },
  {
   "cell_type": "code",
   "execution_count": 188,
   "id": "0debfaa0",
   "metadata": {},
   "outputs": [],
   "source": [
    "## compilation du model\n",
    "model.compile(optimizer=Adam(learning_rate=0.001) , loss ='categorical_crossentropy' , metrics=['accuracy'])"
   ]
  },
  {
   "cell_type": "code",
   "execution_count": 189,
   "id": "84192fda",
   "metadata": {},
   "outputs": [
    {
     "name": "stdout",
     "output_type": "stream",
     "text": [
      "Epoch 1/50\n",
      "1563/1563 [==============================] - 57s 35ms/step - loss: 1.7414 - accuracy: 0.4151\n",
      "Epoch 2/50\n",
      "1563/1563 [==============================] - 54s 34ms/step - loss: 1.3115 - accuracy: 0.5376\n",
      "Epoch 3/50\n",
      "1563/1563 [==============================] - 56s 36ms/step - loss: 1.1756 - accuracy: 0.5882\n",
      "Epoch 4/50\n",
      "1563/1563 [==============================] - 54s 35ms/step - loss: 1.0851 - accuracy: 0.6209\n",
      "Epoch 5/50\n",
      "1563/1563 [==============================] - 54s 34ms/step - loss: 1.0207 - accuracy: 0.6446\n",
      "Epoch 6/50\n",
      "1563/1563 [==============================] - 55s 35ms/step - loss: 0.9746 - accuracy: 0.6618\n",
      "Epoch 7/50\n",
      "1563/1563 [==============================] - 55s 35ms/step - loss: 0.9389 - accuracy: 0.6745\n",
      "Epoch 8/50\n",
      "1563/1563 [==============================] - 55s 35ms/step - loss: 0.8997 - accuracy: 0.6883\n",
      "Epoch 9/50\n",
      "1563/1563 [==============================] - 59s 38ms/step - loss: 0.8727 - accuracy: 0.6977\n",
      "Epoch 10/50\n",
      "1563/1563 [==============================] - 59s 37ms/step - loss: 0.8475 - accuracy: 0.7049\n",
      "Epoch 11/50\n",
      "1563/1563 [==============================] - 56s 36ms/step - loss: 0.8255 - accuracy: 0.7128\n",
      "Epoch 12/50\n",
      "1563/1563 [==============================] - 55s 35ms/step - loss: 0.8089 - accuracy: 0.7181\n",
      "Epoch 13/50\n",
      "1563/1563 [==============================] - 56s 36ms/step - loss: 0.7906 - accuracy: 0.7241\n",
      "Epoch 14/50\n",
      "1563/1563 [==============================] - 59s 38ms/step - loss: 0.7725 - accuracy: 0.7337\n",
      "Epoch 15/50\n",
      "1563/1563 [==============================] - 58s 37ms/step - loss: 0.7594 - accuracy: 0.7371\n",
      "Epoch 16/50\n",
      "1563/1563 [==============================] - 57s 37ms/step - loss: 0.7447 - accuracy: 0.7414\n",
      "Epoch 17/50\n",
      "1563/1563 [==============================] - 58s 37ms/step - loss: 0.7323 - accuracy: 0.7474\n",
      "Epoch 18/50\n",
      "1563/1563 [==============================] - 59s 38ms/step - loss: 0.7222 - accuracy: 0.7471\n",
      "Epoch 19/50\n",
      "1563/1563 [==============================] - 58s 37ms/step - loss: 0.7120 - accuracy: 0.7532\n",
      "Epoch 20/50\n",
      "1563/1563 [==============================] - 58s 37ms/step - loss: 0.7054 - accuracy: 0.7545\n",
      "Epoch 21/50\n",
      "1563/1563 [==============================] - 60s 38ms/step - loss: 0.7024 - accuracy: 0.7578\n",
      "Epoch 22/50\n",
      "1563/1563 [==============================] - 60s 38ms/step - loss: 0.6912 - accuracy: 0.7597\n",
      "Epoch 23/50\n",
      "1563/1563 [==============================] - 55s 35ms/step - loss: 0.6769 - accuracy: 0.7645\n",
      "Epoch 24/50\n",
      "1563/1563 [==============================] - 56s 36ms/step - loss: 0.6780 - accuracy: 0.7650\n",
      "Epoch 25/50\n",
      "1563/1563 [==============================] - 55s 35ms/step - loss: 0.6665 - accuracy: 0.7670\n",
      "Epoch 26/50\n",
      "1563/1563 [==============================] - 56s 36ms/step - loss: 0.6551 - accuracy: 0.7727\n",
      "Epoch 27/50\n",
      "1563/1563 [==============================] - 55s 35ms/step - loss: 0.6487 - accuracy: 0.7739\n",
      "Epoch 28/50\n",
      "1563/1563 [==============================] - 56s 36ms/step - loss: 0.6468 - accuracy: 0.7757\n",
      "Epoch 29/50\n",
      "1563/1563 [==============================] - 57s 36ms/step - loss: 0.6388 - accuracy: 0.7783\n",
      "Epoch 30/50\n",
      "1563/1563 [==============================] - 55s 35ms/step - loss: 0.6371 - accuracy: 0.7777\n",
      "Epoch 31/50\n",
      "1563/1563 [==============================] - 55s 35ms/step - loss: 0.6247 - accuracy: 0.7835\n",
      "Epoch 32/50\n",
      "1563/1563 [==============================] - 54s 35ms/step - loss: 0.6249 - accuracy: 0.7810\n",
      "Epoch 33/50\n",
      "1563/1563 [==============================] - 56s 36ms/step - loss: 0.6199 - accuracy: 0.7846\n",
      "Epoch 34/50\n",
      "1563/1563 [==============================] - 54s 35ms/step - loss: 0.6151 - accuracy: 0.7861\n",
      "Epoch 35/50\n",
      "1563/1563 [==============================] - 55s 35ms/step - loss: 0.6149 - accuracy: 0.7860\n",
      "Epoch 36/50\n",
      "1563/1563 [==============================] - 56s 36ms/step - loss: 0.6112 - accuracy: 0.7885\n",
      "Epoch 37/50\n",
      "1563/1563 [==============================] - 55s 35ms/step - loss: 0.6105 - accuracy: 0.7878\n",
      "Epoch 38/50\n",
      "1563/1563 [==============================] - 55s 35ms/step - loss: 0.6045 - accuracy: 0.7909\n",
      "Epoch 39/50\n",
      "1563/1563 [==============================] - 56s 36ms/step - loss: 0.5988 - accuracy: 0.7908\n",
      "Epoch 40/50\n",
      "1563/1563 [==============================] - 56s 36ms/step - loss: 0.5945 - accuracy: 0.7945\n",
      "Epoch 41/50\n",
      "1563/1563 [==============================] - 55s 35ms/step - loss: 0.5880 - accuracy: 0.7954\n",
      "Epoch 42/50\n",
      "1563/1563 [==============================] - 56s 36ms/step - loss: 0.5933 - accuracy: 0.7954\n",
      "Epoch 43/50\n",
      "1563/1563 [==============================] - 55s 35ms/step - loss: 0.5814 - accuracy: 0.7986\n",
      "Epoch 44/50\n",
      "1563/1563 [==============================] - 55s 35ms/step - loss: 0.5871 - accuracy: 0.7959\n",
      "Epoch 45/50\n",
      "1563/1563 [==============================] - 55s 35ms/step - loss: 0.5809 - accuracy: 0.7975\n",
      "Epoch 46/50\n",
      "1563/1563 [==============================] - 56s 36ms/step - loss: 0.5824 - accuracy: 0.7973\n",
      "Epoch 47/50\n",
      "1563/1563 [==============================] - 55s 35ms/step - loss: 0.5749 - accuracy: 0.7994\n",
      "Epoch 48/50\n",
      "1563/1563 [==============================] - 55s 35ms/step - loss: 0.5711 - accuracy: 0.8013\n",
      "Epoch 49/50\n",
      "1563/1563 [==============================] - 55s 35ms/step - loss: 0.5693 - accuracy: 0.8006\n",
      "Epoch 50/50\n",
      "1563/1563 [==============================] - 56s 36ms/step - loss: 0.5699 - accuracy: 0.8030\n"
     ]
    }
   ],
   "source": [
    "### Entrainer le model \n",
    "\n",
    "history = model.fit(x_train , y_train_cat , epochs=50)"
   ]
  },
  {
   "cell_type": "code",
   "execution_count": 190,
   "id": "8494cb43",
   "metadata": {},
   "outputs": [
    {
     "name": "stdout",
     "output_type": "stream",
     "text": [
      "313/313 [==============================] - 4s 10ms/step - loss: 0.6819 - accuracy: 0.7792\n"
     ]
    }
   ],
   "source": [
    "### Evaluation du model \n",
    "\n",
    "loss_tess , accuracy_test = model.evaluate(x_test , y_test_cat)"
   ]
  },
  {
   "cell_type": "code",
   "execution_count": 191,
   "id": "61a644dd",
   "metadata": {},
   "outputs": [
    {
     "data": {
      "image/png": "[encoded data removed]",
      "text/plain": [
       "<Figure size 640x480 with 1 Axes>"
      ]
     },
     "metadata": {},
     "output_type": "display_data"
    },
    {
     "data": {
      "image/png": "[encoded data removed]",
      "text/plain": [
       "<Figure size 640x480 with 1 Axes>"
      ]
     },
     "metadata": {},
     "output_type": "display_data"
    }
   ],
   "source": [
    "### Tracer la courbe de loss et accuracy du train \n",
    "\n",
    "### Graphe loss et accuracy \n",
    "loss_train = history.history[\"loss\"]\n",
    "accuracy_train = history.history[\"accuracy\"]\n",
    "\n",
    "plt.plot(loss_train)\n",
    "plt.title(\"Loss\")\n",
    "plt.show()\n",
    "plt.plot(accuracy_train)\n",
    "plt.title(\"Accuracy\")\n",
    "plt.show()"
   ]
  }
 ],
 "metadata": {
  "kernelspec": {
   "display_name": "EnvDeepLearn",
   "language": "python",
   "name": "python3"
  },
  "language_info": {
   "codemirror_mode": {
    "name": "ipython",
    "version": 3
   },
   "file_extension": ".py",
   "mimetype": "text/x-python",
   "name": "python",
   "nbconvert_exporter": "python",
   "pygments_lexer": "ipython3",
   "version": "3.10.11"
  }
 },
 "nbformat": 4,
 "nbformat_minor": 5
}
